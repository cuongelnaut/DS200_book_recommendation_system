{
 "cells": [
  {
   "cell_type": "code",
   "execution_count": 1,
   "metadata": {},
   "outputs": [],
   "source": [
    "import pandas as pd\n",
    "import numpy as np\n"
   ]
  },
  {
   "cell_type": "code",
   "execution_count": 17,
   "metadata": {},
   "outputs": [],
   "source": [
    "import findspark\n",
    "findspark.init()"
   ]
  },
  {
   "cell_type": "code",
   "execution_count": 18,
   "metadata": {},
   "outputs": [],
   "source": [
    "from pyspark.sql import SparkSession\n",
    "from pyspark.sql import functions as f"
   ]
  },
  {
   "cell_type": "code",
   "execution_count": 104,
   "metadata": {},
   "outputs": [],
   "source": [
    "from pyspark.ml.recommendation import ALS\n",
    "from pyspark.ml.evaluation import RegressionEvaluator\n",
    "from pyspark.ml.tuning import CrossValidator, ParamGridBuilder"
   ]
  },
  {
   "cell_type": "code",
   "execution_count": 19,
   "metadata": {},
   "outputs": [],
   "source": [
    "spark = SparkSession.builder.appName(\"BookRecommendations\").getOrCreate()"
   ]
  },
  {
   "cell_type": "code",
   "execution_count": 59,
   "metadata": {},
   "outputs": [],
   "source": [
    "ratings = (\n",
    "    spark.read.csv(\n",
    "        path =\"../data/data_processed/Book_Ratings.csv\",\n",
    "        sep=\",\",\n",
    "        header= True,\n",
    "        quote='\"',  \n",
    "    )\n",
    ")"
   ]
  },
  {
   "cell_type": "code",
   "execution_count": 42,
   "metadata": {},
   "outputs": [],
   "source": [
    "books = (\n",
    "    spark.read.csv(\n",
    "        path =\"../data/data_processed/Books.csv\",\n",
    "        sep=\",\",\n",
    "        header= True,\n",
    "        quote='\"',\n",
    "    )\n",
    ")"
   ]
  },
  {
   "cell_type": "code",
   "execution_count": 43,
   "metadata": {},
   "outputs": [
    {
     "name": "stdout",
     "output_type": "stream",
     "text": [
      "+------+----------+--------------------+--------------------+-------------------+--------------------+--------------------+--------------------+--------------------+\n",
      "|BookID|      ISBN|          Book-Title|         Book-Author|Year-Of-Publication|           Publisher|         Image-URL-S|         Image-URL-M|         Image-URL-L|\n",
      "+------+----------+--------------------+--------------------+-------------------+--------------------+--------------------+--------------------+--------------------+\n",
      "|     0|0195153448| Classical Mythology|  Mark P. O. Morford|               2002|Oxford University...|http://images.ama...|http://images.ama...|http://images.ama...|\n",
      "|     1|0002005018|        Clara Callan|Richard Bruce Wright|               2001|HarperFlamingo Ca...|http://images.ama...|http://images.ama...|http://images.ama...|\n",
      "|     2|0060973129|Decision in Normandy|        Carlo D'Este|               1991|     HarperPerennial|http://images.ama...|http://images.ama...|http://images.ama...|\n",
      "|     3|0374157065|Flu: The Story of...|    Gina Bari Kolata|               1999|Farrar Straus Giroux|http://images.ama...|http://images.ama...|http://images.ama...|\n",
      "|     4|0393045218|The Mummies of Ur...|     E. J. W. Barber|               1999|W. W. Norton &amp...|http://images.ama...|http://images.ama...|http://images.ama...|\n",
      "|     5|0399135782|The Kitchen God's...|             Amy Tan|               1991|    Putnam Pub Group|http://images.ama...|http://images.ama...|http://images.ama...|\n",
      "|     6|0425176428|What If?: The Wor...|       Robert Cowley|               2000|Berkley Publishin...|http://images.ama...|http://images.ama...|http://images.ama...|\n",
      "|     7|0671870432|     PLEADING GUILTY|         Scott Turow|               1993|          Audioworks|http://images.ama...|http://images.ama...|http://images.ama...|\n",
      "|     8|0679425608|Under the Black F...|     David Cordingly|               1996|        Random House|http://images.ama...|http://images.ama...|http://images.ama...|\n",
      "|     9|074322678X|Where You'll Find...|         Ann Beattie|               2002|            Scribner|http://images.ama...|http://images.ama...|http://images.ama...|\n",
      "|    10|0771074670|Nights Below Stat...|David Adams Richards|               1988|     Emblem Editions|http://images.ama...|http://images.ama...|http://images.ama...|\n",
      "|    11|080652121X|Hitler's Secret B...|          Adam Lebor|               2000|       Citadel Press|http://images.ama...|http://images.ama...|http://images.ama...|\n",
      "|    12|0887841740|  The Middle Stories|         Sheila Heti|               2004|House of Anansi P...|http://images.ama...|http://images.ama...|http://images.ama...|\n",
      "|    13|1552041778|            Jane Doe|        R. J. Kaiser|               1999|          Mira Books|http://images.ama...|http://images.ama...|http://images.ama...|\n",
      "|    14|1558746218|A Second Chicken ...|       Jack Canfield|               1998|Health Communicat...|http://images.ama...|http://images.ama...|http://images.ama...|\n",
      "|    15|1567407781|The Witchfinder (...|   Loren D. Estleman|               1998|Brilliance Audio ...|http://images.ama...|http://images.ama...|http://images.ama...|\n",
      "|    16|1575663937|More Cunning Than...|  Robert Hendrickson|               1999|Kensington Publis...|http://images.ama...|http://images.ama...|http://images.ama...|\n",
      "|    17|1881320189|Goodbye to the Bu...|        Julia Oliver|               1994|      River City Pub|http://images.ama...|http://images.ama...|http://images.ama...|\n",
      "|    18|0440234743|       The Testament|        John Grisham|               1999|                Dell|http://images.ama...|http://images.ama...|http://images.ama...|\n",
      "|    19|0452264464|Beloved (Plume Co...|       Toni Morrison|               1994|               Plume|http://images.ama...|http://images.ama...|http://images.ama...|\n",
      "+------+----------+--------------------+--------------------+-------------------+--------------------+--------------------+--------------------+--------------------+\n",
      "only showing top 20 rows\n",
      "\n"
     ]
    }
   ],
   "source": [
    "books.show()"
   ]
  },
  {
   "cell_type": "code",
   "execution_count": 62,
   "metadata": {},
   "outputs": [
    {
     "name": "stdout",
     "output_type": "stream",
     "text": [
      "+-------+----------+-----------+\n",
      "|User-ID|      ISBN|Book-Rating|\n",
      "+-------+----------+-----------+\n",
      "| 276725|034545104X|          0|\n",
      "| 276726|0155061224|          5|\n",
      "| 276727|0446520802|          0|\n",
      "| 276729|052165615X|          3|\n",
      "| 276729|0521795028|          6|\n",
      "| 276733|2080674722|          0|\n",
      "| 276736|3257224281|          8|\n",
      "| 276737|0600570967|          6|\n",
      "| 276744|038550120X|          7|\n",
      "| 276745| 342310538|         10|\n",
      "| 276746|0425115801|          0|\n",
      "| 276746|0449006522|          0|\n",
      "| 276746|0553561618|          0|\n",
      "| 276746|055356451X|          0|\n",
      "| 276746|0786013990|          0|\n",
      "| 276746|0786014512|          0|\n",
      "| 276747|0060517794|          9|\n",
      "| 276747|0451192001|          0|\n",
      "| 276747|0609801279|          0|\n",
      "| 276747|0671537458|          9|\n",
      "+-------+----------+-----------+\n",
      "only showing top 20 rows\n",
      "\n"
     ]
    }
   ],
   "source": [
    "ratings.show()"
   ]
  },
  {
   "cell_type": "code",
   "execution_count": 72,
   "metadata": {},
   "outputs": [],
   "source": [
    "data = ratings.join(books, books.ISBN ==  ratings.ISBN,\"inner\").select(\"User-ID\", \"BookID\",\"Book-Title\",\"Book-Rating\")"
   ]
  },
  {
   "cell_type": "code",
   "execution_count": 77,
   "metadata": {},
   "outputs": [],
   "source": [
    "data = data.withColumnRenamed(\"User-ID\",\"userID\")\\\n",
    "            .withColumnRenamed(\"BookID\",\"bookID\")\\\n",
    "            .withColumnRenamed(\"Book-Title\",\"title\")\\\n",
    "            .withColumnRenamed(\"Book-Rating\",\"rating\")"
   ]
  },
  {
   "cell_type": "code",
   "execution_count": 78,
   "metadata": {},
   "outputs": [
    {
     "name": "stdout",
     "output_type": "stream",
     "text": [
      "+------+------+--------------------+------+\n",
      "|userID|bookID|               title|rating|\n",
      "+------+------+--------------------+------+\n",
      "| 23902| 42486|Nothing Can Be Be...|     0|\n",
      "| 16319| 29472|       Which Colour?|     0|\n",
      "| 26583| 48578|Huck Scarry's Ste...|     0|\n",
      "|176062|257021|ARE YOU MY MOTHER...|     0|\n",
      "|114216|154500|                Bess|     0|\n",
      "| 11676|175815| THE COAL HOUSE T/PB|     0|\n",
      "|131402|175815| THE COAL HOUSE T/PB|     0|\n",
      "|145927|175815| THE COAL HOUSE T/PB|     0|\n",
      "| 11676|163766|Glue (First Facts...|     0|\n",
      "|181659|163766|Glue (First Facts...|    10|\n",
      "|206979|163766|Glue (First Facts...|     0|\n",
      "| 11676|182456|Count Duckula: Va...|     6|\n",
      "|110029|182456|Count Duckula: Va...|     0|\n",
      "|206979|182456|Count Duckula: Va...|     0|\n",
      "|201526|141012|PADDINGTON GOES T...|     0|\n",
      "| 93366|175085|Frederick Street:...|     8|\n",
      "| 26583| 48706|           Vancouver|     8|\n",
      "|101731| 48706|           Vancouver|     8|\n",
      "|249111|207528|King Edward VIII:...|     0|\n",
      "|222586|238817|The valour and th...|     8|\n",
      "+------+------+--------------------+------+\n",
      "only showing top 20 rows\n",
      "\n"
     ]
    }
   ],
   "source": [
    "data.show()"
   ]
  },
  {
   "cell_type": "code",
   "execution_count": 79,
   "metadata": {},
   "outputs": [],
   "source": [
    "data = data.withColumn(\"userID\", f.col(\"userID\").cast(\"int\"))\\\n",
    "            .withColumn(\"bookID\", f.col(\"bookID\").cast(\"int\"))\\\n",
    "            .withColumn(\"rating\", f.col(\"rating\").cast(\"double\"))"
   ]
  },
  {
   "cell_type": "code",
   "execution_count": 81,
   "metadata": {},
   "outputs": [
    {
     "data": {
      "text/plain": [
       "[('userID', 'int'),\n",
       " ('bookID', 'int'),\n",
       " ('title', 'string'),\n",
       " ('rating', 'double')]"
      ]
     },
     "execution_count": 81,
     "metadata": {},
     "output_type": "execute_result"
    }
   ],
   "source": [
    "data.dtypes"
   ]
  },
  {
   "cell_type": "code",
   "execution_count": 82,
   "metadata": {},
   "outputs": [],
   "source": [
    "als = ALS(\n",
    "    userCol = \"userID\",\n",
    "    itemCol = \"bookID\",\n",
    "    ratingCol = \"rating\",\n",
    ")"
   ]
  },
  {
   "cell_type": "code",
   "execution_count": 83,
   "metadata": {},
   "outputs": [],
   "source": [
    "evaluator = RegressionEvaluator(metricName = 'rmse', labelCol = 'rating', predictionCol = 'prediction')"
   ]
  },
  {
   "cell_type": "code",
   "execution_count": 86,
   "metadata": {},
   "outputs": [],
   "source": [
    "train, val = data.randomSplit([0.8, 0.2], seed = 42)"
   ]
  },
  {
   "cell_type": "code",
   "execution_count": 87,
   "metadata": {},
   "outputs": [],
   "source": [
    "model = als.fit(train)"
   ]
  },
  {
   "cell_type": "code",
   "execution_count": 88,
   "metadata": {},
   "outputs": [],
   "source": [
    "predictions = model.transform(val)"
   ]
  },
  {
   "cell_type": "code",
   "execution_count": 89,
   "metadata": {},
   "outputs": [
    {
     "name": "stdout",
     "output_type": "stream",
     "text": [
      "+------+------+--------------------+------+----------+\n",
      "|userID|bookID|               title|rating|prediction|\n",
      "+------+------+--------------------+------+----------+\n",
      "|   165|   133|One Hundred Years...|   0.0|  8.423924|\n",
      "|   243|   210| Memoirs of a Geisha|  10.0|-1.7866623|\n",
      "|   651|   842|                Hood|   0.0| -2.022131|\n",
      "|   626|113397| Der Blaumilchkanal.|   7.0|       0.0|\n",
      "|    32|    40|Miss Zukas and th...|   0.0|       0.0|\n",
      "|   244|   246|          Life of Pi|   9.0| 3.6417093|\n",
      "|   254|   291|Angels &amp; Inse...|   0.0|  1.517553|\n",
      "|   306|   330|Frankenstein (Dov...|   0.0|       NaN|\n",
      "|   383|   367|               Proof|   0.0|  3.972284|\n",
      "|   422|   474|    The Lovely Bones|   0.0|       NaN|\n",
      "|   643| 15638|The Wind in the W...|   9.0| 4.1077247|\n",
      "|   202|   154|The Brimstone Wed...|   6.0|       NaN|\n",
      "|   392|   430|El paraÃ­so (Tiem...|   0.0|       NaN|\n",
      "|   444|   507|The Kingdom: Arab...|   0.0| 0.9014306|\n",
      "|   383|   380|Victorious Christ...|   0.0|       NaN|\n",
      "|   254|  5788|Anil's Ghost (Vin...|   0.0| 0.9286234|\n",
      "|   254| 15489|       Separate Beds|   0.0|  1.444056|\n",
      "|   326|   335|    ALL THAT REMAINS|  10.0|       NaN|\n",
      "|   387|   396|        Rosie'S Walk|   0.0|       0.0|\n",
      "|   505|   608|The Vampire Lesta...|   7.0| 2.9458184|\n",
      "+------+------+--------------------+------+----------+\n",
      "only showing top 20 rows\n",
      "\n"
     ]
    }
   ],
   "source": [
    "predictions. show()"
   ]
  },
  {
   "cell_type": "code",
   "execution_count": 90,
   "metadata": {},
   "outputs": [],
   "source": [
    "rmse = evaluator.evaluate(predictions.na.drop())"
   ]
  },
  {
   "cell_type": "code",
   "execution_count": 91,
   "metadata": {},
   "outputs": [
    {
     "name": "stdout",
     "output_type": "stream",
     "text": [
      "4.4172150236801855\n"
     ]
    }
   ],
   "source": [
    "print(rmse)"
   ]
  },
  {
   "cell_type": "code",
   "execution_count": 92,
   "metadata": {},
   "outputs": [],
   "source": [
    "userFactor = model.userFactors\n",
    "itemFactor = model.itemFactors"
   ]
  },
  {
   "cell_type": "code",
   "execution_count": 98,
   "metadata": {},
   "outputs": [
    {
     "name": "stdout",
     "output_type": "stream",
     "text": [
      "+---+--------------------+\n",
      "| id|            features|\n",
      "+---+--------------------+\n",
      "|  8|[-0.5981992, -0.3...|\n",
      "|  9|[1.136716, -0.318...|\n",
      "| 12|[-0.42292485, -1....|\n",
      "| 14|[1.0567818, -0.25...|\n",
      "| 16|[-0.404279, 1.882...|\n",
      "| 17|[1.3811506, -0.27...|\n",
      "| 19|[0.44821343, -0.3...|\n",
      "| 20|[0.0, 0.0, 0.0, 0...|\n",
      "| 22|[0.07295373, 0.02...|\n",
      "| 23|[0.0, 0.0, 0.0, 0...|\n",
      "| 26|[0.8107162, -0.20...|\n",
      "| 32|[0.0, 0.0, 0.0, 0...|\n",
      "| 36|[0.0, 0.0, 0.0, 0...|\n",
      "| 39|[0.7840791, 0.058...|\n",
      "| 42|[0.9239076, 0.397...|\n",
      "| 44|[0.0, 0.0, 0.0, 0...|\n",
      "| 51|[0.541019, -1.032...|\n",
      "| 53|[1.3431232, -0.60...|\n",
      "| 56|[1.9356911, 0.109...|\n",
      "| 64|[-0.6327808, 0.00...|\n",
      "+---+--------------------+\n",
      "only showing top 20 rows\n",
      "\n"
     ]
    }
   ],
   "source": [
    "userFactor.sort('id').show()"
   ]
  },
  {
   "cell_type": "code",
   "execution_count": 101,
   "metadata": {},
   "outputs": [
    {
     "data": {
      "text/plain": [
       "238888"
      ]
     },
     "execution_count": 101,
     "metadata": {},
     "output_type": "execute_result"
    }
   ],
   "source": [
    "itemFactor.count()"
   ]
  },
  {
   "cell_type": "code",
   "execution_count": 96,
   "metadata": {},
   "outputs": [
    {
     "name": "stdout",
     "output_type": "stream",
     "text": [
      "+---+--------------------+\n",
      "| id|            features|\n",
      "+---+--------------------+\n",
      "|  1|[-1.1937307, -0.6...|\n",
      "|  2|[-0.8358279, 0.21...|\n",
      "|  3|[1.6313949, -0.85...|\n",
      "|  4|[0.0, 0.0, 0.0, 0...|\n",
      "|  5|[-1.2868525, -0.2...|\n",
      "|  6|[0.0, 0.0, 0.0, 0...|\n",
      "|  7|[0.8772846, -0.37...|\n",
      "|  8|[0.0, 0.0, 0.0, 0...|\n",
      "|  9|[-0.9567951, -0.5...|\n",
      "| 10|[0.6354727, -1.02...|\n",
      "| 11|[0.0, 0.0, 0.0, 0...|\n",
      "| 12|[-0.9567951, -0.5...|\n",
      "| 13|[-0.9567951, -0.5...|\n",
      "| 14|[-0.42060125, -0....|\n",
      "| 15|[-1.1481541, -0.6...|\n",
      "| 16|[-1.1147898, -0.6...|\n",
      "| 17|[-0.45291173, -1....|\n",
      "| 18|[-1.0597812, -1.1...|\n",
      "| 19|[2.219686, -1.090...|\n",
      "| 20|[-1.8239057, 0.27...|\n",
      "+---+--------------------+\n",
      "only showing top 20 rows\n",
      "\n"
     ]
    }
   ],
   "source": [
    "itemFactor.sort('id').show()"
   ]
  },
  {
   "cell_type": "code",
   "execution_count": 102,
   "metadata": {},
   "outputs": [],
   "source": [
    "user91 = model.userFactors.filter(f.col('id') == 91).select(f.col('features')).rdd.flatMap(lambda x: x).collect()[0]\n",
    "item345 = model.itemFactors.filter(f.col('id') == 345).select(f.col('features')).rdd.flatMap(lambda x: x).collect()[0]"
   ]
  },
  {
   "cell_type": "code",
   "execution_count": 103,
   "metadata": {},
   "outputs": [
    {
     "data": {
      "text/plain": [
       "0.46775561565311863"
      ]
     },
     "execution_count": 103,
     "metadata": {},
     "output_type": "execute_result"
    }
   ],
   "source": [
    "np.dot(user91, item345)"
   ]
  },
  {
   "cell_type": "code",
   "execution_count": 108,
   "metadata": {},
   "outputs": [],
   "source": [
    "param_grid = (\n",
    "    ParamGridBuilder()\n",
    "    .addGrid(als.rank,[5,10])\n",
    "    .addGrid(als.maxIter,[20])\n",
    "    .addGrid(als.regParam,[0.05, 0.1])\n",
    "    .build()\n",
    ")"
   ]
  },
  {
   "cell_type": "code",
   "execution_count": 106,
   "metadata": {},
   "outputs": [],
   "source": [
    "from pprint import pprint"
   ]
  },
  {
   "cell_type": "code",
   "execution_count": 109,
   "metadata": {},
   "outputs": [
    {
     "name": "stdout",
     "output_type": "stream",
     "text": [
      "[{Param(parent='ALS_6d4c59245750', name='maxIter', doc='max number of iterations (>= 0).'): 20,\n",
      "  Param(parent='ALS_6d4c59245750', name='regParam', doc='regularization parameter (>= 0).'): 0.05,\n",
      "  Param(parent='ALS_6d4c59245750', name='rank', doc='rank of the factorization'): 5},\n",
      " {Param(parent='ALS_6d4c59245750', name='maxIter', doc='max number of iterations (>= 0).'): 20,\n",
      "  Param(parent='ALS_6d4c59245750', name='regParam', doc='regularization parameter (>= 0).'): 0.1,\n",
      "  Param(parent='ALS_6d4c59245750', name='rank', doc='rank of the factorization'): 5},\n",
      " {Param(parent='ALS_6d4c59245750', name='maxIter', doc='max number of iterations (>= 0).'): 20,\n",
      "  Param(parent='ALS_6d4c59245750', name='regParam', doc='regularization parameter (>= 0).'): 0.05,\n",
      "  Param(parent='ALS_6d4c59245750', name='rank', doc='rank of the factorization'): 10},\n",
      " {Param(parent='ALS_6d4c59245750', name='maxIter', doc='max number of iterations (>= 0).'): 20,\n",
      "  Param(parent='ALS_6d4c59245750', name='regParam', doc='regularization parameter (>= 0).'): 0.1,\n",
      "  Param(parent='ALS_6d4c59245750', name='rank', doc='rank of the factorization'): 10}]\n"
     ]
    }
   ],
   "source": [
    "pprint(param_grid)"
   ]
  },
  {
   "cell_type": "code",
   "execution_count": null,
   "metadata": {},
   "outputs": [],
   "source": [
    "model = crossval_model.bestModel"
   ]
  },
  {
   "cell_type": "code",
   "execution_count": 110,
   "metadata": {},
   "outputs": [
    {
     "name": "stdout",
     "output_type": "stream",
     "text": [
      "+------+--------------------+\n",
      "|userID|     recommendations|\n",
      "+------+--------------------+\n",
      "|   463|[{161693, 16.9972...|\n",
      "|   496|[{17462, 19.43290...|\n",
      "|  1238|[{229350, 0.0}, {...|\n",
      "|  1591|[{20152, 15.41076...|\n",
      "|  2366|[{139921, 14.3973...|\n",
      "|  3918|[{167275, 15.8302...|\n",
      "|  4900|[{264386, 18.5042...|\n",
      "|  5300|[{253887, 12.1571...|\n",
      "|  5803|[{229350, 0.0}, {...|\n",
      "|  6336|[{266736, 16.4045...|\n",
      "|  6357|[{229350, 0.0}, {...|\n",
      "|  6397|[{189533, 21.7626...|\n",
      "|  6466|[{42031, 17.34398...|\n",
      "|  6654|[{266736, 12.6541...|\n",
      "|  7253|[{45870, 20.02798...|\n",
      "|  7982|[{229350, 0.0}, {...|\n",
      "|  8086|[{135672, 13.0669...|\n",
      "|  9427|[{156325, 18.8128...|\n",
      "|  9465|[{156325, 17.8291...|\n",
      "| 11033|[{162918, 34.2928...|\n",
      "+------+--------------------+\n",
      "only showing top 20 rows\n",
      "\n",
      "root\n",
      " |-- userID: integer (nullable = false)\n",
      " |-- recommendations: array (nullable = true)\n",
      " |    |-- element: struct (containsNull = true)\n",
      " |    |    |-- bookID: integer (nullable = true)\n",
      " |    |    |-- rating: float (nullable = true)\n",
      "\n"
     ]
    }
   ],
   "source": [
    "rec_all = model.recommendForAllUsers(5).cache()\n",
    "rec_all.show()\n",
    "rec_all.printSchema()"
   ]
  },
  {
   "cell_type": "code",
   "execution_count": 121,
   "metadata": {},
   "outputs": [],
   "source": [
    "getuser = rec_all.filter(rec_all.userID == 7253).select(f.col('recommendations')).rdd"
   ]
  },
  {
   "cell_type": "code",
   "execution_count": 128,
   "metadata": {},
   "outputs": [],
   "source": [
    "kq = getuser.collect()"
   ]
  },
  {
   "cell_type": "code",
   "execution_count": 140,
   "metadata": {},
   "outputs": [
    {
     "data": {
      "text/plain": [
       "dict_keys([45870, 1895, 150342, 60401, 152056])"
      ]
     },
     "execution_count": 140,
     "metadata": {},
     "output_type": "execute_result"
    }
   ],
   "source": [
    "dict(kq[0][0])"
   ]
  }
 ],
 "metadata": {
  "kernelspec": {
   "display_name": "Python 3",
   "language": "python",
   "name": "python3"
  },
  "language_info": {
   "codemirror_mode": {
    "name": "ipython",
    "version": 3
   },
   "file_extension": ".py",
   "mimetype": "text/x-python",
   "name": "python",
   "nbconvert_exporter": "python",
   "pygments_lexer": "ipython3",
   "version": "3.11.2"
  },
  "orig_nbformat": 4
 },
 "nbformat": 4,
 "nbformat_minor": 2
}
